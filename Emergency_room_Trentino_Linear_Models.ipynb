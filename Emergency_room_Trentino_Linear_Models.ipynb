{
  "nbformat": 4,
  "nbformat_minor": 0,
  "metadata": {
    "colab": {
      "name": "Emergency room Trentino - Linear Models.ipynb",
      "provenance": [],
      "collapsed_sections": [],
      "include_colab_link": true
    },
    "kernelspec": {
      "name": "python3",
      "display_name": "Python 3"
    },
    "language_info": {
      "name": "python"
    },
    "accelerator": "GPU"
  },
  "cells": [
    {
      "cell_type": "markdown",
      "metadata": {
        "id": "view-in-github",
        "colab_type": "text"
      },
      "source": [
        "<a href=\"https://colab.research.google.com/github/annabavaresco/pstrentino/blob/main/Emergency_room_Trentino_Linear_Models.ipynb\" target=\"_parent\"><img src=\"https://colab.research.google.com/assets/colab-badge.svg\" alt=\"Open In Colab\"/></a>"
      ]
    },
    {
      "cell_type": "markdown",
      "metadata": {
        "id": "xUpEYiG6jaHS"
      },
      "source": [
        "# Machine Learning Model\n",
        "\n",
        "In order to predict waiting times in the emergency rooms of Trentino hospitals, we decided to implement three distinct linear models. \n",
        "The first one (which will be referred to as model_wgb) will model waiting times for white, green and blue triage and is going to be trained with data collected from each of the emergency rooms, with the exception of Trento-ginecologico and Trento-ortopedico. Since those two emergency rooms usually receive smaller numbers of patients when compared to the others, we found that developing a  separate model for them would lead to more accurate predictions.\n",
        "The second model (model_totg), therefore, is trained on data collected only from Trento-ginecologico and Trento-ortopedico emergency rooms. Just like model_wgb, it does not take into consideration waiting times for orange and red triages.\n",
        "As for the patients with orange triage, since their number is smaller, we preferred to use develop a linear model with less predictors and trained on the data collected from all of the emergency rooms.\n",
        "Finally, we made several attempts to model the waiting times for the red triage, but none of them proved satisfactory, leading to either inaccurate predictions or even negative predicted waiting times. Consequently, we have found that the better prediction we can provide given the data we collected is simply the median of the waiting times for the red triage.\n",
        "\n",
        "\n",
        "\n",
        "\n",
        "\n"
      ]
    },
    {
      "cell_type": "code",
      "metadata": {
        "id": "Y0LddCL5jGKm"
      },
      "source": [
        "import pandas as pd\n",
        "pd.options.mode.chained_assignment = None\n",
        "import datetime as dt\n",
        "import numpy as np\n",
        "import random\n",
        "from sklearn.linear_model import LinearRegression\n",
        "from sklearn.model_selection import train_test_split\n",
        "from sklearn.metrics import mean_absolute_error\n",
        "from datetime import datetime"
      ],
      "execution_count": null,
      "outputs": []
    },
    {
      "cell_type": "code",
      "metadata": {
        "colab": {
          "base_uri": "https://localhost:8080/"
        },
        "id": "iomI8IkGmKj_",
        "outputId": "9bb57573-3167-4f28-987c-10b992d70b46"
      },
      "source": [
        "pip install mysql-connector-python"
      ],
      "execution_count": null,
      "outputs": [
        {
          "output_type": "stream",
          "text": [
            "Collecting mysql-connector-python\n",
            "  Downloading mysql_connector_python-8.0.26-cp37-cp37m-manylinux1_x86_64.whl (30.9 MB)\n",
            "\u001b[K     |████████████████████████████████| 30.9 MB 70 kB/s \n",
            "\u001b[?25hRequirement already satisfied: protobuf>=3.0.0 in /usr/local/lib/python3.7/dist-packages (from mysql-connector-python) (3.17.3)\n",
            "Requirement already satisfied: six>=1.9 in /usr/local/lib/python3.7/dist-packages (from protobuf>=3.0.0->mysql-connector-python) (1.15.0)\n",
            "Installing collected packages: mysql-connector-python\n",
            "Successfully installed mysql-connector-python-8.0.26\n"
          ],
          "name": "stdout"
        }
      ]
    },
    {
      "cell_type": "markdown",
      "metadata": {
        "id": "91t1wqw7yftO"
      },
      "source": [
        "Before delving into the actual building of the model, data needs to be retrieved directly from an Amazon hosted mySQL database. The following function will connect to the database table, select all the data collected from 5th of May and 5th of August and convert it into a pandas dataframe. "
      ]
    },
    {
      "cell_type": "code",
      "metadata": {
        "id": "3gTxlPEumSh3"
      },
      "source": [
        "import mysql.connector"
      ],
      "execution_count": null,
      "outputs": []
    },
    {
      "cell_type": "code",
      "metadata": {
        "id": "1WuS9gKxmYgf",
        "colab": {
          "base_uri": "https://localhost:8080/",
          "height": 204
        },
        "outputId": "acbc1fd1-8414-4196-d908-a9bf9b96478f"
      },
      "source": [
        "def get_data():\n",
        "  '''\n",
        "    Creates a connection with the db hosting our data and converts it into a Pandas dataframe.\n",
        "  '''\n",
        "  connection = mysql.connector.connect(\n",
        "      host = 'emergencyroom.ci8zphg60wmc.us-east-2.rds.amazonaws.com',\n",
        "      port =  3306,\n",
        "      user = 'admin',\n",
        "      database = 'er_trentino',\n",
        "      password = 'emr00mtr3nt036'\n",
        "    )\n",
        "\n",
        "  connection.autocommit = True\n",
        "  data = pd.read_sql('SELECT * FROM er_trentino.patients', con=connection)\n",
        "\n",
        "  connection.close()\n",
        "\n",
        "  return data\n",
        "\n",
        "df = get_data()\n",
        "df = df.dropna()\n",
        "df.head()\n"
      ],
      "execution_count": null,
      "outputs": [
        {
          "output_type": "execute_result",
          "data": {
            "text/html": [
              "<div>\n",
              "<style scoped>\n",
              "    .dataframe tbody tr th:only-of-type {\n",
              "        vertical-align: middle;\n",
              "    }\n",
              "\n",
              "    .dataframe tbody tr th {\n",
              "        vertical-align: top;\n",
              "    }\n",
              "\n",
              "    .dataframe thead th {\n",
              "        text-align: right;\n",
              "    }\n",
              "</style>\n",
              "<table border=\"1\" class=\"dataframe\">\n",
              "  <thead>\n",
              "    <tr style=\"text-align: right;\">\n",
              "      <th></th>\n",
              "      <th>triage</th>\n",
              "      <th>hospital</th>\n",
              "      <th>start</th>\n",
              "      <th>end</th>\n",
              "      <th>waiting_time</th>\n",
              "      <th>others</th>\n",
              "      <th>more_severe</th>\n",
              "      <th>less_severe</th>\n",
              "    </tr>\n",
              "  </thead>\n",
              "  <tbody>\n",
              "    <tr>\n",
              "      <th>0</th>\n",
              "      <td>white</td>\n",
              "      <td>001-PS-PSC</td>\n",
              "      <td>2021-05-05 07:30:00</td>\n",
              "      <td>2021-05-05 08:40:00</td>\n",
              "      <td>01:10:00</td>\n",
              "      <td>0</td>\n",
              "      <td>0</td>\n",
              "      <td>0</td>\n",
              "    </tr>\n",
              "    <tr>\n",
              "      <th>1</th>\n",
              "      <td>green</td>\n",
              "      <td>001-PS-PSC</td>\n",
              "      <td>2021-05-05 08:40:00</td>\n",
              "      <td>2021-05-05 08:50:00</td>\n",
              "      <td>00:10:00</td>\n",
              "      <td>0</td>\n",
              "      <td>0</td>\n",
              "      <td>0</td>\n",
              "    </tr>\n",
              "    <tr>\n",
              "      <th>2</th>\n",
              "      <td>green</td>\n",
              "      <td>001-PS-PSC</td>\n",
              "      <td>2021-05-05 09:00:00</td>\n",
              "      <td>2021-05-05 09:10:00</td>\n",
              "      <td>00:10:00</td>\n",
              "      <td>0</td>\n",
              "      <td>0</td>\n",
              "      <td>0</td>\n",
              "    </tr>\n",
              "    <tr>\n",
              "      <th>3</th>\n",
              "      <td>white</td>\n",
              "      <td>001-PS-PSC</td>\n",
              "      <td>2021-05-05 09:10:00</td>\n",
              "      <td>2021-05-05 09:40:00</td>\n",
              "      <td>00:30:00</td>\n",
              "      <td>0</td>\n",
              "      <td>0</td>\n",
              "      <td>0</td>\n",
              "    </tr>\n",
              "    <tr>\n",
              "      <th>4</th>\n",
              "      <td>white</td>\n",
              "      <td>001-PS-PSC</td>\n",
              "      <td>2021-05-05 10:30:00</td>\n",
              "      <td>2021-05-05 11:30:00</td>\n",
              "      <td>01:00:00</td>\n",
              "      <td>0</td>\n",
              "      <td>0</td>\n",
              "      <td>0</td>\n",
              "    </tr>\n",
              "  </tbody>\n",
              "</table>\n",
              "</div>"
            ],
            "text/plain": [
              "  triage    hospital               start  ... others more_severe  less_severe\n",
              "0  white  001-PS-PSC 2021-05-05 07:30:00  ...      0           0            0\n",
              "1  green  001-PS-PSC 2021-05-05 08:40:00  ...      0           0            0\n",
              "2  green  001-PS-PSC 2021-05-05 09:00:00  ...      0           0            0\n",
              "3  white  001-PS-PSC 2021-05-05 09:10:00  ...      0           0            0\n",
              "4  white  001-PS-PSC 2021-05-05 10:30:00  ...      0           0            0\n",
              "\n",
              "[5 rows x 8 columns]"
            ]
          },
          "metadata": {
            "tags": []
          },
          "execution_count": 4
        }
      ]
    },
    {
      "cell_type": "markdown",
      "metadata": {
        "id": "c_Z-9kFpm9DJ"
      },
      "source": [
        "Let's have a look at the data retrieved from the database. Here is the description of each column:\n",
        "\n",
        "\n",
        "*   triage: the color associated with the triage\n",
        "*   hospital: the code identifying the specific emergency room. There are 11 different emengency rooms in Trentino\n",
        "*   start: timestamp referring to the moment when the patient entered the waiting room\n",
        "*   end: timestamp referring to the moment when the patient left the waiting room\n",
        "*   waiting_time: timestamp showing how long the patient has been waiting\n",
        "*   others: number of patients with the same triage color present at the moment of arrival\n",
        "*   more_severe: patients with higher level of priority present at the moment of arrival\n",
        "*   less_severe: patients with lower level of priority present at the moment of arrival\n"
      ]
    },
    {
      "cell_type": "markdown",
      "metadata": {
        "id": "57ypaqw3pHh_"
      },
      "source": [
        "The following functions are meant for data preparation. Here is the list of changes which will be applied on the dataset described above:\n",
        "\n",
        "1. Splitting into 6 different dataframes: five are based on triage levels (white, green, blue and orange) and one contains only the data collected from the Trento-ginecologico and Trento-oculistico emergency rooms. \n",
        "2. Converting values of the \"hospital\" column into integers and storing them inside a new column named \"hosp_code\"\n",
        "3. Converting values of the \"waiting_time\" column into integers representing the number of minutes\n",
        "4. Creating a new column \"timeslot\" containing an integer whose value depends on the time of the day when the patient arrives at the emergency room.  \n",
        "5. Creating a new column \"weekday\" with an integer encoding the day of the week when the patient arrived at the emergency room. \n",
        "6. Scaling the values of the columns \"hosp_code\" and \"timeslot\" so that their values are between 0 and 1. "
      ]
    },
    {
      "cell_type": "code",
      "metadata": {
        "id": "eJDgWcFOpGAv",
        "colab": {
          "base_uri": "https://localhost:8080/",
          "height": 419
        },
        "outputId": "0700b131-19d2-4b4c-d5c3-e1b50c017f5f"
      },
      "source": [
        "def convert_to_mins(last: str):\n",
        "    '''\n",
        "        Converts a string in the format hh:mm:ss into an integer representing the number of minutes.\n",
        "    '''\n",
        "    l = last.split(':')\n",
        "    l = [int(s) for s in l[:2]]\n",
        "    mins = l[1]\n",
        "    if l[0] != 0:\n",
        "        hrs = l[0] * 60\n",
        "        mins += hrs \n",
        "        \n",
        "    return mins\n",
        "\n",
        "def process_df(data_frame):\n",
        "    '''\n",
        "      Takes as input the data retrieved from the database and outputs 5 different datasets with processed data.\n",
        "    '''\n",
        "    data = data_frame.copy()\n",
        "\n",
        "    hosp_dict = {'001-PS-PSC': 10,\n",
        "                '001-PS-PSG': 11,\n",
        "                    '001-PS-PSO': 1,\n",
        "                    '001-PS-PS': 2,\n",
        "                    '001-PS-PSP': 3,\n",
        "                    '006-PS-PS': 4,\n",
        "                    '007-PS-PS': 5,\n",
        "                    '010-PS-PS': 6,\n",
        "                    '004-PS-PS': 7,\n",
        "                    '014-PS-PS': 8,\n",
        "                    '005-PS-PS': 9\n",
        "                }\n",
        "    \n",
        "    data['hosp_code'] = data['hospital'].apply(lambda x: hosp_dict[x])\n",
        "    data['weekday'] = data['start'].apply(lambda x: x.weekday())\n",
        "    data['waiting_time'] = data['waiting_time'].apply(lambda x: convert_to_mins(str(x)))\n",
        "    timeslot_dict = {}\n",
        "    ind = 1\n",
        "    for n in range(24):\n",
        "        if n < 10:\n",
        "            hrs =  '0' + str(n) \n",
        "        else:\n",
        "            hrs = str(n)\n",
        "\n",
        "        for i in range(6):\n",
        "            mins = str(i) + '0'\n",
        "            s = hrs + ':' + mins + ':' + '00'\n",
        "            timeslot_dict[s] = ind\n",
        "            ind += 1\n",
        "\n",
        "    data['timeslot'] = data['start'].apply(lambda x: timeslot_dict[x.strftime(\"%H:%M:%S\")])\n",
        "    data = data.loc[:,['triage', 'waiting_time', 'others', 'more_severe', 'hosp_code', 'weekday', 'timeslot']]\n",
        "    ndf1 = data.loc[(data['hosp_code']==11) | (data['hosp_code']==10), :]\n",
        "    data = data.loc[(data['hosp_code']!=11) & (data['hosp_code']!=10), :]\n",
        "    data['hosp_code'] = data['hosp_code']\n",
        "    ndf_white = data.loc[data['triage'] == \"white\",:]\n",
        "    ndf_green = data.loc[data['triage'] == \"green\",:]\n",
        "    ndf_blue = data.loc[data['triage'] == \"blue\",:]\n",
        "    ndf_orange = data.loc[data['triage'] == \"orange\",:]\n",
        "    ndf_red = data.loc[data['triage'] == \"red\",:]\n",
        "    \n",
        "    return ndf1, ndf_white, ndf_green, ndf_blue, ndf_orange, ndf_red\n",
        "\n",
        "process_df(df)[0]"
      ],
      "execution_count": null,
      "outputs": [
        {
          "output_type": "execute_result",
          "data": {
            "text/html": [
              "<div>\n",
              "<style scoped>\n",
              "    .dataframe tbody tr th:only-of-type {\n",
              "        vertical-align: middle;\n",
              "    }\n",
              "\n",
              "    .dataframe tbody tr th {\n",
              "        vertical-align: top;\n",
              "    }\n",
              "\n",
              "    .dataframe thead th {\n",
              "        text-align: right;\n",
              "    }\n",
              "</style>\n",
              "<table border=\"1\" class=\"dataframe\">\n",
              "  <thead>\n",
              "    <tr style=\"text-align: right;\">\n",
              "      <th></th>\n",
              "      <th>triage</th>\n",
              "      <th>waiting_time</th>\n",
              "      <th>others</th>\n",
              "      <th>more_severe</th>\n",
              "      <th>hosp_code</th>\n",
              "      <th>weekday</th>\n",
              "      <th>timeslot</th>\n",
              "    </tr>\n",
              "  </thead>\n",
              "  <tbody>\n",
              "    <tr>\n",
              "      <th>0</th>\n",
              "      <td>white</td>\n",
              "      <td>70</td>\n",
              "      <td>0</td>\n",
              "      <td>0</td>\n",
              "      <td>10</td>\n",
              "      <td>2</td>\n",
              "      <td>46</td>\n",
              "    </tr>\n",
              "    <tr>\n",
              "      <th>1</th>\n",
              "      <td>green</td>\n",
              "      <td>10</td>\n",
              "      <td>0</td>\n",
              "      <td>0</td>\n",
              "      <td>10</td>\n",
              "      <td>2</td>\n",
              "      <td>53</td>\n",
              "    </tr>\n",
              "    <tr>\n",
              "      <th>2</th>\n",
              "      <td>green</td>\n",
              "      <td>10</td>\n",
              "      <td>0</td>\n",
              "      <td>0</td>\n",
              "      <td>10</td>\n",
              "      <td>2</td>\n",
              "      <td>55</td>\n",
              "    </tr>\n",
              "    <tr>\n",
              "      <th>3</th>\n",
              "      <td>white</td>\n",
              "      <td>30</td>\n",
              "      <td>0</td>\n",
              "      <td>0</td>\n",
              "      <td>10</td>\n",
              "      <td>2</td>\n",
              "      <td>56</td>\n",
              "    </tr>\n",
              "    <tr>\n",
              "      <th>4</th>\n",
              "      <td>white</td>\n",
              "      <td>60</td>\n",
              "      <td>0</td>\n",
              "      <td>0</td>\n",
              "      <td>10</td>\n",
              "      <td>2</td>\n",
              "      <td>64</td>\n",
              "    </tr>\n",
              "    <tr>\n",
              "      <th>...</th>\n",
              "      <td>...</td>\n",
              "      <td>...</td>\n",
              "      <td>...</td>\n",
              "      <td>...</td>\n",
              "      <td>...</td>\n",
              "      <td>...</td>\n",
              "      <td>...</td>\n",
              "    </tr>\n",
              "    <tr>\n",
              "      <th>46787</th>\n",
              "      <td>blue</td>\n",
              "      <td>10</td>\n",
              "      <td>0</td>\n",
              "      <td>0</td>\n",
              "      <td>11</td>\n",
              "      <td>3</td>\n",
              "      <td>126</td>\n",
              "    </tr>\n",
              "    <tr>\n",
              "      <th>46788</th>\n",
              "      <td>green</td>\n",
              "      <td>10</td>\n",
              "      <td>0</td>\n",
              "      <td>1</td>\n",
              "      <td>11</td>\n",
              "      <td>3</td>\n",
              "      <td>132</td>\n",
              "    </tr>\n",
              "    <tr>\n",
              "      <th>46789</th>\n",
              "      <td>blue</td>\n",
              "      <td>10</td>\n",
              "      <td>0</td>\n",
              "      <td>0</td>\n",
              "      <td>11</td>\n",
              "      <td>3</td>\n",
              "      <td>132</td>\n",
              "    </tr>\n",
              "    <tr>\n",
              "      <th>46790</th>\n",
              "      <td>blue</td>\n",
              "      <td>10</td>\n",
              "      <td>0</td>\n",
              "      <td>0</td>\n",
              "      <td>11</td>\n",
              "      <td>3</td>\n",
              "      <td>136</td>\n",
              "    </tr>\n",
              "    <tr>\n",
              "      <th>46791</th>\n",
              "      <td>orange</td>\n",
              "      <td>10</td>\n",
              "      <td>0</td>\n",
              "      <td>0</td>\n",
              "      <td>11</td>\n",
              "      <td>3</td>\n",
              "      <td>140</td>\n",
              "    </tr>\n",
              "  </tbody>\n",
              "</table>\n",
              "<p>3443 rows × 7 columns</p>\n",
              "</div>"
            ],
            "text/plain": [
              "       triage  waiting_time  others  more_severe  hosp_code  weekday  timeslot\n",
              "0       white            70       0            0         10        2        46\n",
              "1       green            10       0            0         10        2        53\n",
              "2       green            10       0            0         10        2        55\n",
              "3       white            30       0            0         10        2        56\n",
              "4       white            60       0            0         10        2        64\n",
              "...       ...           ...     ...          ...        ...      ...       ...\n",
              "46787    blue            10       0            0         11        3       126\n",
              "46788   green            10       0            1         11        3       132\n",
              "46789    blue            10       0            0         11        3       132\n",
              "46790    blue            10       0            0         11        3       136\n",
              "46791  orange            10       0            0         11        3       140\n",
              "\n",
              "[3443 rows x 7 columns]"
            ]
          },
          "metadata": {
            "tags": []
          },
          "execution_count": 5
        }
      ]
    },
    {
      "cell_type": "markdown",
      "metadata": {
        "id": "rgxkfzkuup5r"
      },
      "source": [
        "These are the datasets which are going to be used to build the models."
      ]
    },
    {
      "cell_type": "code",
      "metadata": {
        "id": "Cu6SC9SquXvT"
      },
      "source": [
        "dtf1, white, green, blue, orange, red = process_df(df)"
      ],
      "execution_count": null,
      "outputs": []
    },
    {
      "cell_type": "markdown",
      "metadata": {
        "id": "p6gQMrjeeZ4m"
      },
      "source": [
        "## White, green and blue model\n",
        "\n",
        "As mentioned before, this model is going to be used in order to predict white, blue and green triage waiting times for every emergency room with the exception of Trento-oculistico and Trento-ginecologico. \n",
        "The predictors we selected are:\n",
        "1. the color of the triage (column \"triage\")\n",
        "2. the code identifying the emergency room (column \"hosp_code\")\n",
        "3. number of patients waiting at the same emergency room with the same triage color (column \"others\")\n",
        "4. number of patients waiting at the same emergency room with a higher level of priority (column \"more_severe\")\n",
        "5. the day of the week when the patient entered the emergency room (column \"weekday\")\n",
        "6. the time of the day when the patient entered the emergency room (column \"timeslot\")"
      ]
    },
    {
      "cell_type": "code",
      "metadata": {
        "colab": {
          "base_uri": "https://localhost:8080/",
          "height": 204
        },
        "id": "W1zASXS4e9ww",
        "outputId": "bb26c3cb-c6e0-4b77-ae3c-fcb9b0c0c3c1"
      },
      "source": [
        "df_list = [white, green, blue]\n",
        "\n",
        "for dataframe in df_list:\n",
        "\n",
        "  #this preprocessing step is done in order to deal with potential outliers\n",
        "    upper_lim = dataframe.loc[:, 'waiting_time'].quantile(0.99)\n",
        "    dataframe.loc[dataframe['waiting_time']>upper_lim, 'waiting_time'] = round(upper_lim)\n",
        "    \n",
        "\n",
        "dataset = pd.concat([white, green, blue]) \n",
        "\n",
        "# turning the triage variable into numeric factors\n",
        "d= {'white': 1, 'green': 2, 'blue': 3}\n",
        "dataset['triage'] = dataset['triage'].apply(lambda x: d[x])\n",
        "\n",
        "dataset.head()"
      ],
      "execution_count": null,
      "outputs": [
        {
          "output_type": "execute_result",
          "data": {
            "text/html": [
              "<div>\n",
              "<style scoped>\n",
              "    .dataframe tbody tr th:only-of-type {\n",
              "        vertical-align: middle;\n",
              "    }\n",
              "\n",
              "    .dataframe tbody tr th {\n",
              "        vertical-align: top;\n",
              "    }\n",
              "\n",
              "    .dataframe thead th {\n",
              "        text-align: right;\n",
              "    }\n",
              "</style>\n",
              "<table border=\"1\" class=\"dataframe\">\n",
              "  <thead>\n",
              "    <tr style=\"text-align: right;\">\n",
              "      <th></th>\n",
              "      <th>triage</th>\n",
              "      <th>waiting_time</th>\n",
              "      <th>others</th>\n",
              "      <th>more_severe</th>\n",
              "      <th>hosp_code</th>\n",
              "      <th>weekday</th>\n",
              "      <th>timeslot</th>\n",
              "    </tr>\n",
              "  </thead>\n",
              "  <tbody>\n",
              "    <tr>\n",
              "      <th>1594</th>\n",
              "      <td>1</td>\n",
              "      <td>10</td>\n",
              "      <td>0</td>\n",
              "      <td>0</td>\n",
              "      <td>1</td>\n",
              "      <td>1</td>\n",
              "      <td>120</td>\n",
              "    </tr>\n",
              "    <tr>\n",
              "      <th>1596</th>\n",
              "      <td>1</td>\n",
              "      <td>10</td>\n",
              "      <td>0</td>\n",
              "      <td>1</td>\n",
              "      <td>1</td>\n",
              "      <td>1</td>\n",
              "      <td>126</td>\n",
              "    </tr>\n",
              "    <tr>\n",
              "      <th>1598</th>\n",
              "      <td>1</td>\n",
              "      <td>10</td>\n",
              "      <td>0</td>\n",
              "      <td>4</td>\n",
              "      <td>1</td>\n",
              "      <td>1</td>\n",
              "      <td>132</td>\n",
              "    </tr>\n",
              "    <tr>\n",
              "      <th>1606</th>\n",
              "      <td>1</td>\n",
              "      <td>10</td>\n",
              "      <td>0</td>\n",
              "      <td>0</td>\n",
              "      <td>1</td>\n",
              "      <td>2</td>\n",
              "      <td>13</td>\n",
              "    </tr>\n",
              "    <tr>\n",
              "      <th>1614</th>\n",
              "      <td>1</td>\n",
              "      <td>130</td>\n",
              "      <td>0</td>\n",
              "      <td>0</td>\n",
              "      <td>1</td>\n",
              "      <td>2</td>\n",
              "      <td>46</td>\n",
              "    </tr>\n",
              "  </tbody>\n",
              "</table>\n",
              "</div>"
            ],
            "text/plain": [
              "      triage  waiting_time  others  more_severe  hosp_code  weekday  timeslot\n",
              "1594       1            10       0            0          1        1       120\n",
              "1596       1            10       0            1          1        1       126\n",
              "1598       1            10       0            4          1        1       132\n",
              "1606       1            10       0            0          1        2        13\n",
              "1614       1           130       0            0          1        2        46"
            ]
          },
          "metadata": {
            "tags": []
          },
          "execution_count": 7
        }
      ]
    },
    {
      "cell_type": "code",
      "metadata": {
        "id": "CF6lNTs2e-w4"
      },
      "source": [
        "X = dataset.loc[:,['triage','hosp_code', 'others', 'more_severe', 'weekday', 'timeslot']]\n",
        "y = dataset['waiting_time']\n",
        "\n",
        "trainX, testX, trainy, testy = train_test_split(X, y, test_size=0.1, random_state=0)\n",
        "regressor_wgb = LinearRegression().fit(trainX, trainy)"
      ],
      "execution_count": null,
      "outputs": []
    },
    {
      "cell_type": "code",
      "metadata": {
        "id": "q50aeY98x7w4",
        "colab": {
          "base_uri": "https://localhost:8080/"
        },
        "outputId": "edf7c2e6-43ed-4c97-ee77-32fcc5b12af9"
      },
      "source": [
        "testy_pred = regressor_wgb.predict(testX)\n",
        "myMae = mean_absolute_error(testy, testy_pred)\n",
        "print(f'The mean absolute error I get with the neural network is {myMae} minutes.')"
      ],
      "execution_count": null,
      "outputs": [
        {
          "output_type": "stream",
          "text": [
            "The mean absolute error I get with the neural network is 45.60324522642791 minutes.\n"
          ],
          "name": "stdout"
        }
      ]
    },
    {
      "cell_type": "markdown",
      "metadata": {
        "id": "BnMPMjyPjbWz"
      },
      "source": [
        "## Orange model\n",
        "\n",
        "This model is going to be used in order to predict waiting times for the orange triage. The number of predictors we selected is smaller if compared to the one of the previous model. The reason for this is that, for some emergency rooms, the patients with orange triage are usually very few and therefore do not constitute a realiable base for the model to learn how to predict waiting times. For example, we noticed that the Trentino-oculistico emergency room only received 11 patients with orange triage in the timespan of two months. In this case, it clearly does not make sense to include \"timeslot\" (which ranges from 1 to 144) among predictors. \n",
        "Hence, after several trials and considerations, we reached the conclusion that the realiable predictors for the orange triage are only \"others\" and \"weekday\".   "
      ]
    },
    {
      "cell_type": "code",
      "metadata": {
        "colab": {
          "base_uri": "https://localhost:8080/",
          "height": 204
        },
        "id": "kRUWzau2n7RA",
        "outputId": "cc877ec5-6134-4120-d72e-b08a1b74e154"
      },
      "source": [
        "dataset = orange\n",
        "upper_lim = dataset.loc[:, 'waiting_time'].quantile(0.99)\n",
        "dataset.loc[dataset['waiting_time']>upper_lim, 'waiting_time'] = round(upper_lim)\n",
        "dataset.head()"
      ],
      "execution_count": null,
      "outputs": [
        {
          "output_type": "execute_result",
          "data": {
            "text/html": [
              "<div>\n",
              "<style scoped>\n",
              "    .dataframe tbody tr th:only-of-type {\n",
              "        vertical-align: middle;\n",
              "    }\n",
              "\n",
              "    .dataframe tbody tr th {\n",
              "        vertical-align: top;\n",
              "    }\n",
              "\n",
              "    .dataframe thead th {\n",
              "        text-align: right;\n",
              "    }\n",
              "</style>\n",
              "<table border=\"1\" class=\"dataframe\">\n",
              "  <thead>\n",
              "    <tr style=\"text-align: right;\">\n",
              "      <th></th>\n",
              "      <th>triage</th>\n",
              "      <th>waiting_time</th>\n",
              "      <th>others</th>\n",
              "      <th>more_severe</th>\n",
              "      <th>hosp_code</th>\n",
              "      <th>weekday</th>\n",
              "      <th>timeslot</th>\n",
              "    </tr>\n",
              "  </thead>\n",
              "  <tbody>\n",
              "    <tr>\n",
              "      <th>1595</th>\n",
              "      <td>orange</td>\n",
              "      <td>0</td>\n",
              "      <td>0</td>\n",
              "      <td>0</td>\n",
              "      <td>1</td>\n",
              "      <td>1</td>\n",
              "      <td>121</td>\n",
              "    </tr>\n",
              "    <tr>\n",
              "      <th>1601</th>\n",
              "      <td>orange</td>\n",
              "      <td>10</td>\n",
              "      <td>0</td>\n",
              "      <td>0</td>\n",
              "      <td>1</td>\n",
              "      <td>1</td>\n",
              "      <td>136</td>\n",
              "    </tr>\n",
              "    <tr>\n",
              "      <th>1603</th>\n",
              "      <td>orange</td>\n",
              "      <td>10</td>\n",
              "      <td>0</td>\n",
              "      <td>0</td>\n",
              "      <td>1</td>\n",
              "      <td>1</td>\n",
              "      <td>140</td>\n",
              "    </tr>\n",
              "    <tr>\n",
              "      <th>1604</th>\n",
              "      <td>orange</td>\n",
              "      <td>0</td>\n",
              "      <td>0</td>\n",
              "      <td>0</td>\n",
              "      <td>1</td>\n",
              "      <td>2</td>\n",
              "      <td>7</td>\n",
              "    </tr>\n",
              "    <tr>\n",
              "      <th>1609</th>\n",
              "      <td>orange</td>\n",
              "      <td>10</td>\n",
              "      <td>0</td>\n",
              "      <td>0</td>\n",
              "      <td>1</td>\n",
              "      <td>2</td>\n",
              "      <td>49</td>\n",
              "    </tr>\n",
              "  </tbody>\n",
              "</table>\n",
              "</div>"
            ],
            "text/plain": [
              "      triage  waiting_time  others  more_severe  hosp_code  weekday  timeslot\n",
              "1595  orange             0       0            0          1        1       121\n",
              "1601  orange            10       0            0          1        1       136\n",
              "1603  orange            10       0            0          1        1       140\n",
              "1604  orange             0       0            0          1        2         7\n",
              "1609  orange            10       0            0          1        2        49"
            ]
          },
          "metadata": {
            "tags": []
          },
          "execution_count": 11
        }
      ]
    },
    {
      "cell_type": "code",
      "metadata": {
        "id": "Vls-wYqaohtl"
      },
      "source": [
        "X = dataset.loc[:,['others', 'weekday']]\n",
        "y = dataset['waiting_time']\n",
        "\n",
        "\n",
        "trainX, testX, trainy, testy = train_test_split(X, y, test_size=0.1, random_state=0)\n",
        "\n",
        "regressor_orange = LinearRegression().fit(trainX, trainy)\n"
      ],
      "execution_count": null,
      "outputs": []
    },
    {
      "cell_type": "code",
      "metadata": {
        "colab": {
          "base_uri": "https://localhost:8080/"
        },
        "id": "sfEECWMcovTn",
        "outputId": "e7f10b43-1255-4f62-ce50-f8d3aede2c78"
      },
      "source": [
        "testy_pred = regressor_orange.predict(testX)\n",
        "myMae = mean_absolute_error(testy, testy_pred)\n",
        "print(f'The mean absolute error I get with the neural network is {myMae} minutes.')"
      ],
      "execution_count": null,
      "outputs": [
        {
          "output_type": "stream",
          "text": [
            "The mean absolute error I get with the neural network is 7.4125978209743275 minutes.\n"
          ],
          "name": "stdout"
        }
      ]
    },
    {
      "cell_type": "markdown",
      "metadata": {
        "id": "K0dWMFZUo87y"
      },
      "source": [
        "## Trento-oculistico and Trento-ginecologico\n",
        "\n",
        "This last model, as it was mentioned above, is going to be used to predict waiting times for white, green and blue triages for patients arriving at Trento-oculistico and Trento-ginecologico emergency rooms.\n",
        "Here the same considerations made for the orange model hold. In other words, since the amount of data is not big enough to provide many examples for each level of \"timeslot\", we decided to exclude it from the set of predictors."
      ]
    },
    {
      "cell_type": "code",
      "metadata": {
        "colab": {
          "base_uri": "https://localhost:8080/",
          "height": 204
        },
        "id": "S5VresXEqmU9",
        "outputId": "2dd6dc51-c7a3-486d-8215-7083657f5f40"
      },
      "source": [
        "dataset = dtf1\n",
        "\n",
        "dataset = dataset.loc[(dataset['triage']!= 'orange')&(dataset['triage']!= 'red'),:]\n",
        "coldict = {'white':1, 'green':2, 'blue':3}\n",
        "dataset['triage'] = dataset['triage'].apply(lambda x: coldict[x])\n",
        "for i in range(1,4):\n",
        "    upper_lim = dataset.loc[dataset['triage']==i, 'waiting_time'].quantile(0.9)\n",
        "    dataset.loc[(dataset['triage']==i)&(dataset['waiting_time']>upper_lim), 'waiting_time'] = upper_lim\n",
        "\n",
        "dataset.head()"
      ],
      "execution_count": null,
      "outputs": [
        {
          "output_type": "execute_result",
          "data": {
            "text/html": [
              "<div>\n",
              "<style scoped>\n",
              "    .dataframe tbody tr th:only-of-type {\n",
              "        vertical-align: middle;\n",
              "    }\n",
              "\n",
              "    .dataframe tbody tr th {\n",
              "        vertical-align: top;\n",
              "    }\n",
              "\n",
              "    .dataframe thead th {\n",
              "        text-align: right;\n",
              "    }\n",
              "</style>\n",
              "<table border=\"1\" class=\"dataframe\">\n",
              "  <thead>\n",
              "    <tr style=\"text-align: right;\">\n",
              "      <th></th>\n",
              "      <th>triage</th>\n",
              "      <th>waiting_time</th>\n",
              "      <th>others</th>\n",
              "      <th>more_severe</th>\n",
              "      <th>hosp_code</th>\n",
              "      <th>weekday</th>\n",
              "      <th>timeslot</th>\n",
              "    </tr>\n",
              "  </thead>\n",
              "  <tbody>\n",
              "    <tr>\n",
              "      <th>0</th>\n",
              "      <td>1</td>\n",
              "      <td>50.0</td>\n",
              "      <td>0</td>\n",
              "      <td>0</td>\n",
              "      <td>10</td>\n",
              "      <td>2</td>\n",
              "      <td>46</td>\n",
              "    </tr>\n",
              "    <tr>\n",
              "      <th>1</th>\n",
              "      <td>2</td>\n",
              "      <td>10.0</td>\n",
              "      <td>0</td>\n",
              "      <td>0</td>\n",
              "      <td>10</td>\n",
              "      <td>2</td>\n",
              "      <td>53</td>\n",
              "    </tr>\n",
              "    <tr>\n",
              "      <th>2</th>\n",
              "      <td>2</td>\n",
              "      <td>10.0</td>\n",
              "      <td>0</td>\n",
              "      <td>0</td>\n",
              "      <td>10</td>\n",
              "      <td>2</td>\n",
              "      <td>55</td>\n",
              "    </tr>\n",
              "    <tr>\n",
              "      <th>3</th>\n",
              "      <td>1</td>\n",
              "      <td>30.0</td>\n",
              "      <td>0</td>\n",
              "      <td>0</td>\n",
              "      <td>10</td>\n",
              "      <td>2</td>\n",
              "      <td>56</td>\n",
              "    </tr>\n",
              "    <tr>\n",
              "      <th>4</th>\n",
              "      <td>1</td>\n",
              "      <td>50.0</td>\n",
              "      <td>0</td>\n",
              "      <td>0</td>\n",
              "      <td>10</td>\n",
              "      <td>2</td>\n",
              "      <td>64</td>\n",
              "    </tr>\n",
              "  </tbody>\n",
              "</table>\n",
              "</div>"
            ],
            "text/plain": [
              "   triage  waiting_time  others  more_severe  hosp_code  weekday  timeslot\n",
              "0       1          50.0       0            0         10        2        46\n",
              "1       2          10.0       0            0         10        2        53\n",
              "2       2          10.0       0            0         10        2        55\n",
              "3       1          30.0       0            0         10        2        56\n",
              "4       1          50.0       0            0         10        2        64"
            ]
          },
          "metadata": {
            "tags": []
          },
          "execution_count": 17
        }
      ]
    },
    {
      "cell_type": "code",
      "metadata": {
        "id": "RC_4nZF2rPFp"
      },
      "source": [
        "X = dataset.loc[:,['triage', 'others', 'more_severe', 'weekday']]\n",
        "y = dataset['waiting_time']\n",
        "\n",
        "\n",
        "trainX, testX, trainy, testy = train_test_split(X, y, test_size=0.1, random_state=0)\n",
        "\n",
        "regressor_totg = LinearRegression().fit(trainX, trainy)"
      ],
      "execution_count": null,
      "outputs": []
    },
    {
      "cell_type": "code",
      "metadata": {
        "colab": {
          "base_uri": "https://localhost:8080/"
        },
        "id": "b0jDZalWrUqe",
        "outputId": "03cdd6c0-b958-4fb2-a1b4-13f66b5a44f4"
      },
      "source": [
        "testy_pred = regressor_totg.predict(testX)\n",
        "myMae = mean_absolute_error(testy, testy_pred)\n",
        "print(f'The mean absolute error I get with the neural network is {myMae} minutes.')"
      ],
      "execution_count": null,
      "outputs": [
        {
          "output_type": "stream",
          "text": [
            "The mean absolute error I get with the neural network is 12.414883972351864 minutes.\n"
          ],
          "name": "stdout"
        }
      ]
    },
    {
      "cell_type": "markdown",
      "metadata": {
        "id": "rVyaIh2E6JfC"
      },
      "source": [
        "## Red triage"
      ]
    },
    {
      "cell_type": "code",
      "metadata": {
        "colab": {
          "base_uri": "https://localhost:8080/",
          "height": 204
        },
        "id": "g_xpWZn46NhN",
        "outputId": "9cffedfd-c4a9-4888-b734-cb5a7af2a7e7"
      },
      "source": [
        "dataset = red\n",
        "upper_lim = dataset.loc[:, 'waiting_time'].quantile(0.99)\n",
        "dataset.loc[dataset['waiting_time']>upper_lim, 'waiting_time'] = round(upper_lim)\n",
        "dataset.head()"
      ],
      "execution_count": null,
      "outputs": [
        {
          "output_type": "execute_result",
          "data": {
            "text/html": [
              "<div>\n",
              "<style scoped>\n",
              "    .dataframe tbody tr th:only-of-type {\n",
              "        vertical-align: middle;\n",
              "    }\n",
              "\n",
              "    .dataframe tbody tr th {\n",
              "        vertical-align: top;\n",
              "    }\n",
              "\n",
              "    .dataframe thead th {\n",
              "        text-align: right;\n",
              "    }\n",
              "</style>\n",
              "<table border=\"1\" class=\"dataframe\">\n",
              "  <thead>\n",
              "    <tr style=\"text-align: right;\">\n",
              "      <th></th>\n",
              "      <th>triage</th>\n",
              "      <th>waiting_time</th>\n",
              "      <th>others</th>\n",
              "      <th>more_severe</th>\n",
              "      <th>hosp_code</th>\n",
              "      <th>weekday</th>\n",
              "      <th>timeslot</th>\n",
              "    </tr>\n",
              "  </thead>\n",
              "  <tbody>\n",
              "    <tr>\n",
              "      <th>2291</th>\n",
              "      <td>red</td>\n",
              "      <td>10</td>\n",
              "      <td>0</td>\n",
              "      <td>0</td>\n",
              "      <td>1</td>\n",
              "      <td>0</td>\n",
              "      <td>135</td>\n",
              "    </tr>\n",
              "    <tr>\n",
              "      <th>4106</th>\n",
              "      <td>red</td>\n",
              "      <td>10</td>\n",
              "      <td>0</td>\n",
              "      <td>0</td>\n",
              "      <td>2</td>\n",
              "      <td>2</td>\n",
              "      <td>34</td>\n",
              "    </tr>\n",
              "    <tr>\n",
              "      <th>4160</th>\n",
              "      <td>red</td>\n",
              "      <td>0</td>\n",
              "      <td>0</td>\n",
              "      <td>0</td>\n",
              "      <td>2</td>\n",
              "      <td>2</td>\n",
              "      <td>96</td>\n",
              "    </tr>\n",
              "    <tr>\n",
              "      <th>4183</th>\n",
              "      <td>red</td>\n",
              "      <td>0</td>\n",
              "      <td>0</td>\n",
              "      <td>0</td>\n",
              "      <td>2</td>\n",
              "      <td>2</td>\n",
              "      <td>109</td>\n",
              "    </tr>\n",
              "    <tr>\n",
              "      <th>4197</th>\n",
              "      <td>red</td>\n",
              "      <td>10</td>\n",
              "      <td>0</td>\n",
              "      <td>0</td>\n",
              "      <td>2</td>\n",
              "      <td>2</td>\n",
              "      <td>118</td>\n",
              "    </tr>\n",
              "  </tbody>\n",
              "</table>\n",
              "</div>"
            ],
            "text/plain": [
              "     triage  waiting_time  others  more_severe  hosp_code  weekday  timeslot\n",
              "2291    red            10       0            0          1        0       135\n",
              "4106    red            10       0            0          2        2        34\n",
              "4160    red             0       0            0          2        2        96\n",
              "4183    red             0       0            0          2        2       109\n",
              "4197    red            10       0            0          2        2       118"
            ]
          },
          "metadata": {
            "tags": []
          },
          "execution_count": 21
        }
      ]
    },
    {
      "cell_type": "code",
      "metadata": {
        "colab": {
          "base_uri": "https://localhost:8080/"
        },
        "id": "tbreMYPx6kzt",
        "outputId": "0998ea25-f3ed-4649-f5e0-beb7fc6286f4"
      },
      "source": [
        "dataset.waiting_time.median()"
      ],
      "execution_count": null,
      "outputs": [
        {
          "output_type": "execute_result",
          "data": {
            "text/plain": [
              "0.0"
            ]
          },
          "metadata": {
            "tags": []
          },
          "execution_count": 22
        }
      ]
    }
  ]
}