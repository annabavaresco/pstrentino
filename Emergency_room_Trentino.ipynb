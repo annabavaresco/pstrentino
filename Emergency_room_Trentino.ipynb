{
  "nbformat": 4,
  "nbformat_minor": 0,
  "metadata": {
    "colab": {
      "name": "Emergency room Trentino.ipynb",
      "provenance": [],
      "collapsed_sections": [],
      "authorship_tag": "ABX9TyNOCIcDCBz3/PMsGQ4nFtkW",
      "include_colab_link": true
    },
    "kernelspec": {
      "name": "python3",
      "display_name": "Python 3"
    },
    "language_info": {
      "name": "python"
    }
  },
  "cells": [
    {
      "cell_type": "markdown",
      "metadata": {
        "id": "view-in-github",
        "colab_type": "text"
      },
      "source": [
        "<a href=\"https://colab.research.google.com/github/annabavaresco/pstrentino/blob/main/Emergency_room_Trentino.ipynb\" target=\"_parent\"><img src=\"https://colab.research.google.com/assets/colab-badge.svg\" alt=\"Open In Colab\"/></a>"
      ]
    },
    {
      "cell_type": "markdown",
      "metadata": {
        "id": "xUpEYiG6jaHS"
      },
      "source": [
        "# Machine learning model\n",
        "\n",
        "The model we decided to use in order to predict wait time in the emergency rooms is a sequential neural networks. Since wait times are supposed to vary based on the triage, we decided to build a model for each color. \n",
        "\n",
        "What we are going to do in this notebook is retrieving historical data about wait times which is stored inside a mySQL database hosted by Amazon, converting it into 5 pandas dataframes (one for each triage color) and building the neural networks. "
      ]
    },
    {
      "cell_type": "code",
      "metadata": {
        "id": "Y0LddCL5jGKm"
      },
      "source": [
        "import pandas as pd\n",
        "import datetime as dt\n",
        "import numpy as np\n",
        "import random\n",
        "from sklearn.model_selection import train_test_split\n",
        "from sklearn.metrics import mean_squared_error\n",
        "from tensorflow import keras\n",
        "from datetime import datetime, timedelta"
      ],
      "execution_count": null,
      "outputs": []
    },
    {
      "cell_type": "code",
      "metadata": {
        "colab": {
          "base_uri": "https://localhost:8080/"
        },
        "id": "iomI8IkGmKj_",
        "outputId": "956b774d-8bc3-4feb-8aea-590c64c54176"
      },
      "source": [
        "pip install mysql-connector-python"
      ],
      "execution_count": null,
      "outputs": [
        {
          "output_type": "stream",
          "text": [
            "Collecting mysql-connector-python\n",
            "  Downloading mysql_connector_python-8.0.26-cp37-cp37m-manylinux1_x86_64.whl (30.9 MB)\n",
            "\u001b[K     |████████████████████████████████| 30.9 MB 79 kB/s \n",
            "\u001b[?25hRequirement already satisfied: protobuf>=3.0.0 in /usr/local/lib/python3.7/dist-packages (from mysql-connector-python) (3.17.3)\n",
            "Requirement already satisfied: six>=1.9 in /usr/local/lib/python3.7/dist-packages (from protobuf>=3.0.0->mysql-connector-python) (1.15.0)\n",
            "Installing collected packages: mysql-connector-python\n",
            "Successfully installed mysql-connector-python-8.0.26\n"
          ],
          "name": "stdout"
        }
      ]
    },
    {
      "cell_type": "code",
      "metadata": {
        "id": "3gTxlPEumSh3"
      },
      "source": [
        "import mysql.connector"
      ],
      "execution_count": null,
      "outputs": []
    },
    {
      "cell_type": "code",
      "metadata": {
        "id": "1WuS9gKxmYgf"
      },
      "source": [
        "def retrieve_data():\n",
        "  '''\n",
        "    Creates a connection with the db hosting our data and converts it into a pandas dataframe.\n",
        "  '''\n",
        "  connection = mysql.connector.connect(\n",
        "      host = 'emergencyroom.ci8zphg60wmc.us-east-2.rds.amazonaws.com',\n",
        "      port =  3306,\n",
        "      user = 'admin',\n",
        "      database = 'prova',\n",
        "      password = 'emr00mtr3nt036'\n",
        "    )\n",
        "\n",
        "  connection.autocommit = True\n",
        "  data = pd.read_sql('SELECT * FROM prova.ER_PATIENTS', con=connection)\n",
        "\n",
        "  connection.close()\n",
        "\n",
        "  return data\n"
      ],
      "execution_count": null,
      "outputs": []
    },
    {
      "cell_type": "markdown",
      "metadata": {
        "id": "c_Z-9kFpm9DJ"
      },
      "source": [
        "Let's have a look at the data retrieved from the database. Here is the meaning of each column:\n",
        "\n",
        "\n",
        "*   color: the color associated with the triage\n",
        "*   hostpital: the color identifying the specific emergency room. There are 11 different emengency rooms in Trentino\n",
        "*   start: timestamp referring to the moment when the patient entered the waiting room\n",
        "*   end: timestamp referring to the moment when the patient left the waiting room\n",
        "*   duration: timestamp showing how long the patient has been waiting\n",
        "*   others: number of parients with the same triage color present at the moment of arrival\n",
        "*   more_severe: patient with higher level of priority present at the time of arrival\n",
        "*   less_severe: patients with lower level of priority present at the moment of arrival\n"
      ]
    },
    {
      "cell_type": "code",
      "metadata": {
        "colab": {
          "base_uri": "https://localhost:8080/",
          "height": 204
        },
        "id": "pNE35Vvgmu76",
        "outputId": "32933bdc-e07e-4bd1-f27c-41c96deda6e4"
      },
      "source": [
        "df = retrieve_data()\n",
        "df.head()"
      ],
      "execution_count": null,
      "outputs": [
        {
          "output_type": "execute_result",
          "data": {
            "text/html": [
              "<div>\n",
              "<style scoped>\n",
              "    .dataframe tbody tr th:only-of-type {\n",
              "        vertical-align: middle;\n",
              "    }\n",
              "\n",
              "    .dataframe tbody tr th {\n",
              "        vertical-align: top;\n",
              "    }\n",
              "\n",
              "    .dataframe thead th {\n",
              "        text-align: right;\n",
              "    }\n",
              "</style>\n",
              "<table border=\"1\" class=\"dataframe\">\n",
              "  <thead>\n",
              "    <tr style=\"text-align: right;\">\n",
              "      <th></th>\n",
              "      <th>colore</th>\n",
              "      <th>ospedale</th>\n",
              "      <th>inizio</th>\n",
              "      <th>fine</th>\n",
              "      <th>durata</th>\n",
              "      <th>altri</th>\n",
              "      <th>più_gravi</th>\n",
              "      <th>meno_gravi</th>\n",
              "    </tr>\n",
              "  </thead>\n",
              "  <tbody>\n",
              "    <tr>\n",
              "      <th>0</th>\n",
              "      <td>bianco</td>\n",
              "      <td>001-PS-PSC</td>\n",
              "      <td>2021-05-05 07:30:00</td>\n",
              "      <td>2021-05-05 08:40:00</td>\n",
              "      <td>01:10:00</td>\n",
              "      <td>0</td>\n",
              "      <td>0</td>\n",
              "      <td>0</td>\n",
              "    </tr>\n",
              "    <tr>\n",
              "      <th>1</th>\n",
              "      <td>verde</td>\n",
              "      <td>001-PS-PSC</td>\n",
              "      <td>2021-05-05 08:40:00</td>\n",
              "      <td>2021-05-05 08:50:00</td>\n",
              "      <td>00:10:00</td>\n",
              "      <td>0</td>\n",
              "      <td>0</td>\n",
              "      <td>0</td>\n",
              "    </tr>\n",
              "    <tr>\n",
              "      <th>2</th>\n",
              "      <td>verde</td>\n",
              "      <td>001-PS-PSC</td>\n",
              "      <td>2021-05-05 09:00:00</td>\n",
              "      <td>2021-05-05 09:10:00</td>\n",
              "      <td>00:10:00</td>\n",
              "      <td>0</td>\n",
              "      <td>0</td>\n",
              "      <td>0</td>\n",
              "    </tr>\n",
              "    <tr>\n",
              "      <th>3</th>\n",
              "      <td>bianco</td>\n",
              "      <td>001-PS-PSC</td>\n",
              "      <td>2021-05-05 09:10:00</td>\n",
              "      <td>2021-05-05 09:40:00</td>\n",
              "      <td>00:30:00</td>\n",
              "      <td>0</td>\n",
              "      <td>0</td>\n",
              "      <td>0</td>\n",
              "    </tr>\n",
              "    <tr>\n",
              "      <th>4</th>\n",
              "      <td>bianco</td>\n",
              "      <td>001-PS-PSC</td>\n",
              "      <td>2021-05-05 10:30:00</td>\n",
              "      <td>2021-05-05 11:30:00</td>\n",
              "      <td>01:00:00</td>\n",
              "      <td>0</td>\n",
              "      <td>0</td>\n",
              "      <td>0</td>\n",
              "    </tr>\n",
              "  </tbody>\n",
              "</table>\n",
              "</div>"
            ],
            "text/plain": [
              "   colore    ospedale              inizio  ... altri più_gravi  meno_gravi\n",
              "0  bianco  001-PS-PSC 2021-05-05 07:30:00  ...     0         0           0\n",
              "1   verde  001-PS-PSC 2021-05-05 08:40:00  ...     0         0           0\n",
              "2   verde  001-PS-PSC 2021-05-05 09:00:00  ...     0         0           0\n",
              "3  bianco  001-PS-PSC 2021-05-05 09:10:00  ...     0         0           0\n",
              "4  bianco  001-PS-PSC 2021-05-05 10:30:00  ...     0         0           0\n",
              "\n",
              "[5 rows x 8 columns]"
            ]
          },
          "metadata": {
            "tags": []
          },
          "execution_count": 10
        }
      ]
    },
    {
      "cell_type": "markdown",
      "metadata": {
        "id": "57ypaqw3pHh_"
      },
      "source": [
        "The following fuctions are meant for data preparation. Here is the list of chahges which will be performed on the dataset shown above:\n",
        "\n",
        "1. Splitting into 5 different dataframes based on triage color\n",
        "2. Removing observations for which the value of duration can be considered as an outlier depending on the triage color\n",
        "3. Converting values of the \"hospital\" column into integers\n",
        "4. Converting values of the \"duration\" column into integers representing the number of minutes\n",
        "5. Removing the \"color\" column as the observations have already been put into different dataframes according to the triage color. "
      ]
    },
    {
      "cell_type": "code",
      "metadata": {
        "id": "eJDgWcFOpGAv"
      },
      "source": [
        "def convert_to_mins(last: str):\n",
        "  '''\n",
        "    Converts a sting in the format hh:mm:ss into an integer representing the number of minutes.\n",
        "   '''\n",
        "   \n",
        "  l = last.split(':')\n",
        "  l = [int(s) for s in l[:2]]\n",
        "  mins = l[1]\n",
        "  if l[0] != 0:\n",
        "    hrs = l[0] * 60\n",
        "    mins += hrs \n",
        "        \n",
        "  return mins\n",
        "\n",
        "def process_df(data):\n",
        "  '''\n",
        "    Takes as input the data retrieved from the database and outputs 5 different datasets with processed data.\n",
        "  '''\n",
        "  data.columns = ['colore', 'ospedale', 'inizio', 'fine', 'durata', 'altri', 'più_gravi', 'meno_gravi']\n",
        "  hosp_dict = {'001-PS-PSC': 1,\n",
        "                '001-PS-PSG': 2,\n",
        "                    '001-PS-PSO': 3,\n",
        "                    '001-PS-PS': 4,\n",
        "                    '001-PS-PSP': 5,\n",
        "                    '006-PS-PS': 6,\n",
        "                    '007-PS-PS': 7,\n",
        "                    '010-PS-PS': 8,\n",
        "                    '004-PS-PS': 9,\n",
        "                    '014-PS-PS': 10,\n",
        "                    '005-PS-PS': 11\n",
        "                }\n",
        "\n",
        "  data['osp_code'] = data['ospedale'].apply(lambda x: hosp_dict[x])\n",
        "  data['weekday'] = data['inizio'].apply(lambda x: x.weekday())\n",
        "  data['durata'] = data['durata'].apply(lambda x: convert_to_mins(str(x)))\n",
        "  timeslot_dict = {}\n",
        "  ind = 1\n",
        "  for n in range(24):\n",
        "    if n < 10:\n",
        "      hrs =  '0' + str(n) \n",
        "    else:\n",
        "      hrs = str(n)\n",
        "    for i in range(6):\n",
        "      mins = str(i) + '0'\n",
        "      s = hrs + ':' + mins + ':' + '00'\n",
        "      timeslot_dict[s] = ind\n",
        "      ind += 1\n",
        "\n",
        "  data['timeslot'] = data['inizio'].apply(lambda x: timeslot_dict[x.strftime(\"%H:%M:%S\")])\n",
        "  data = data.loc[:, ['colore', 'durata', 'altri', 'più_gravi', 'weekday', 'timeslot', 'osp_code']]\n",
        "  ndf_bianco = data.loc[(data['colore'] == \"bianco\") & (data['durata']<800),:]\n",
        "  ndf_verde = data.loc[(data['colore'] == \"verde\") & (data['durata']<120),:]\n",
        "  ndf_azzurro = data.loc[(data['colore'] == \"azzurro\") & (data['durata']<80),:]\n",
        "  ndf_arancio = data.loc[(data['colore'] == \"arancio\") & (data['durata']<30),:]\n",
        "  ndf_rosso = data.loc[(data['colore'] == \"rosso\")& (data['durata']<5),:]\n",
        "  \n",
        "  return ndf_bianco, ndf_verde, ndf_azzurro, ndf_arancio, ndf_rosso"
      ],
      "execution_count": null,
      "outputs": []
    },
    {
      "cell_type": "markdown",
      "metadata": {
        "id": "rgxkfzkuup5r"
      },
      "source": [
        "These are the datasets which are going to be used to build the models."
      ]
    },
    {
      "cell_type": "code",
      "metadata": {
        "id": "Cu6SC9SquXvT"
      },
      "source": [
        "df_white, df_green, df_blue, df_orange, df_red = process_df(df)"
      ],
      "execution_count": null,
      "outputs": []
    },
    {
      "cell_type": "markdown",
      "metadata": {
        "id": "qrPI1vnqu0eT"
      },
      "source": [
        "## White model"
      ]
    },
    {
      "cell_type": "code",
      "metadata": {
        "colab": {
          "base_uri": "https://localhost:8080/"
        },
        "id": "8TTJWLOOu8rN",
        "outputId": "bc7bda54-bcb3-47ed-e7fa-11ca7920b9cc"
      },
      "source": [
        "workingCopyDataset = df_white\n",
        "\n",
        "X = workingCopyDataset.loc[:,['weekday', 'timeslot', 'osp_code', 'altri', 'più_gravi']]\n",
        "y = workingCopyDataset['durata']\n",
        "\n",
        "\n",
        "trainX, testX, trainy, testy = train_test_split(X, y, test_size=0.1, random_state=0)\n",
        "\n",
        "inputVariables = 5\n",
        "model = keras.models.Sequential()\n",
        "model.add(keras.layers.Dense(12, input_dim=inputVariables, kernel_initializer='normal', activation='relu'))\n",
        "model.add(keras.layers.Dense(8, activation='relu'))\n",
        "model.add(keras.layers.Dense(1, activation='linear'))\n",
        "model.summary()\n",
        "\n",
        "model.compile(loss='mse', optimizer='adam', metrics=['accuracy'])\n",
        "\n",
        "numberOfEpochs = 500\n",
        "batchSize = 256\n",
        "history = model.fit(trainX, trainy, epochs=numberOfEpochs, batch_size=batchSize, \n",
        "                    verbose=False, validation_split=0.2)"
      ],
      "execution_count": null,
      "outputs": [
        {
          "output_type": "stream",
          "text": [
            "Model: \"sequential_1\"\n",
            "_________________________________________________________________\n",
            "Layer (type)                 Output Shape              Param #   \n",
            "=================================================================\n",
            "dense_3 (Dense)              (None, 12)                72        \n",
            "_________________________________________________________________\n",
            "dense_4 (Dense)              (None, 8)                 104       \n",
            "_________________________________________________________________\n",
            "dense_5 (Dense)              (None, 1)                 9         \n",
            "=================================================================\n",
            "Total params: 185\n",
            "Trainable params: 185\n",
            "Non-trainable params: 0\n",
            "_________________________________________________________________\n"
          ],
          "name": "stdout"
        }
      ]
    },
    {
      "cell_type": "code",
      "metadata": {
        "colab": {
          "base_uri": "https://localhost:8080/"
        },
        "id": "xEjeqHrKvgCF",
        "outputId": "27569af1-3164-4d0d-85e8-1fbc8b232c52"
      },
      "source": [
        "testy_pred = model.predict(testX)\n",
        "myMse = mean_squared_error(testy, testy_pred)\n",
        "print(f'The mean squared error WHITE I get with the neural network is {myMse} minutes.')\n",
        "#model.save(\"models/model_WHITE\")"
      ],
      "execution_count": null,
      "outputs": [
        {
          "output_type": "stream",
          "text": [
            "The mean squared error WHITE I get with the neural network is 397.2164665087391 minutes.\n"
          ],
          "name": "stdout"
        }
      ]
    },
    {
      "cell_type": "markdown",
      "metadata": {
        "id": "ZFjDqPCjukGx"
      },
      "source": [
        "## Green model"
      ]
    },
    {
      "cell_type": "code",
      "metadata": {
        "colab": {
          "base_uri": "https://localhost:8080/"
        },
        "id": "DR5hJAEKwR07",
        "outputId": "8aa24bc1-fc3d-4af9-cada-1caa54bb9814"
      },
      "source": [
        "workingCopyDataset = df_green\n",
        "\n",
        "X = workingCopyDataset.loc[:,['weekday', 'timeslot', 'osp_code', 'altri', 'più_gravi']]\n",
        "y = workingCopyDataset['durata']\n",
        "\n",
        "\n",
        "trainX, testX, trainy, testy = train_test_split(X, y, test_size=0.1, random_state=0)\n",
        "\n",
        "inputVariables = 5\n",
        "model = keras.models.Sequential()\n",
        "model.add(keras.layers.Dense(12, input_dim=inputVariables, kernel_initializer='normal', activation='relu'))\n",
        "model.add(keras.layers.Dense(8, activation='relu'))\n",
        "model.add(keras.layers.Dense(1, activation='linear'))\n",
        "model.summary()\n",
        "\n",
        "model.compile(loss='mse', optimizer='adam', metrics=['accuracy'])\n",
        "\n",
        "numberOfEpochs = 500\n",
        "batchSize = 256\n",
        "history = model.fit(trainX, trainy, epochs=numberOfEpochs, batch_size=batchSize, \n",
        "                    verbose=False, validation_split=0.2)"
      ],
      "execution_count": null,
      "outputs": [
        {
          "output_type": "stream",
          "text": [
            "Model: \"sequential_2\"\n",
            "_________________________________________________________________\n",
            "Layer (type)                 Output Shape              Param #   \n",
            "=================================================================\n",
            "dense_6 (Dense)              (None, 12)                72        \n",
            "_________________________________________________________________\n",
            "dense_7 (Dense)              (None, 8)                 104       \n",
            "_________________________________________________________________\n",
            "dense_8 (Dense)              (None, 1)                 9         \n",
            "=================================================================\n",
            "Total params: 185\n",
            "Trainable params: 185\n",
            "Non-trainable params: 0\n",
            "_________________________________________________________________\n"
          ],
          "name": "stdout"
        }
      ]
    },
    {
      "cell_type": "code",
      "metadata": {
        "id": "4YIVGCouwbzK"
      },
      "source": [
        "testy_pred = model.predict(testX)\n",
        "myMse = mean_squared_error(testy, testy_pred)\n",
        "print(f'The mean squared error GREEN I get with the neural network is {myMse} minutes.')\n",
        "#model.save(\"models/model_GREEN\")"
      ],
      "execution_count": null,
      "outputs": []
    },
    {
      "cell_type": "markdown",
      "metadata": {
        "id": "UeW-C8H2wq5h"
      },
      "source": [
        "## Blue model"
      ]
    },
    {
      "cell_type": "code",
      "metadata": {
        "colab": {
          "base_uri": "https://localhost:8080/"
        },
        "id": "b18lp86xwvk0",
        "outputId": "45b7926d-f99b-4c35-cc70-d37be13c70f9"
      },
      "source": [
        "workingCopyDataset = df_blue\n",
        "\n",
        "X = workingCopyDataset.loc[:,['weekday', 'timeslot', 'osp_code', 'altri', 'più_gravi']]\n",
        "y = workingCopyDataset['durata']\n",
        "\n",
        "\n",
        "trainX, testX, trainy, testy = train_test_split(X, y, test_size=0.1, random_state=0)\n",
        "\n",
        "inputVariables = 5\n",
        "model = keras.models.Sequential()\n",
        "model.add(keras.layers.Dense(12, input_dim=inputVariables, kernel_initializer='normal', activation='relu'))\n",
        "model.add(keras.layers.Dense(8, activation='relu'))\n",
        "model.add(keras.layers.Dense(1, activation='linear'))\n",
        "model.summary()\n",
        "\n",
        "model.compile(loss='mse', optimizer='adam', metrics=['accuracy'])\n",
        "\n",
        "numberOfEpochs = 500\n",
        "batchSize = 256\n",
        "history = model.fit(trainX, trainy, epochs=numberOfEpochs, batch_size=batchSize, \n",
        "                    verbose=False, validation_split=0.2)"
      ],
      "execution_count": null,
      "outputs": [
        {
          "output_type": "stream",
          "text": [
            "Model: \"sequential_3\"\n",
            "_________________________________________________________________\n",
            "Layer (type)                 Output Shape              Param #   \n",
            "=================================================================\n",
            "dense_9 (Dense)              (None, 12)                72        \n",
            "_________________________________________________________________\n",
            "dense_10 (Dense)             (None, 8)                 104       \n",
            "_________________________________________________________________\n",
            "dense_11 (Dense)             (None, 1)                 9         \n",
            "=================================================================\n",
            "Total params: 185\n",
            "Trainable params: 185\n",
            "Non-trainable params: 0\n",
            "_________________________________________________________________\n"
          ],
          "name": "stdout"
        }
      ]
    },
    {
      "cell_type": "code",
      "metadata": {
        "colab": {
          "base_uri": "https://localhost:8080/"
        },
        "id": "y71VDq6Qw323",
        "outputId": "78b5a26e-3ff6-4c53-fe26-dc07ea70aed8"
      },
      "source": [
        "testy_pred = model.predict(testX)\n",
        "myMse = mean_squared_error(testy, testy_pred)\n",
        "print(f'The mean squared error BLUE I get with the neural network is {myMse} minutes.')\n",
        "#model.save(\"models/model_BLUE\")"
      ],
      "execution_count": null,
      "outputs": [
        {
          "output_type": "stream",
          "text": [
            "The mean squared error BLUE I get with the neural network is 1214.0484641761113 minutes.\n"
          ],
          "name": "stdout"
        }
      ]
    },
    {
      "cell_type": "markdown",
      "metadata": {
        "id": "e6QGhJ8wxHqN"
      },
      "source": [
        "## Orange model"
      ]
    },
    {
      "cell_type": "code",
      "metadata": {
        "id": "dBGoV826xLPk"
      },
      "source": [
        "workingCopyDataset = df_orange\n",
        "\n",
        "X = workingCopyDataset.loc[:,['weekday', 'timeslot', 'osp_code', 'altri', 'più_gravi']]\n",
        "y = workingCopyDataset['durata']\n",
        "\n",
        "\n",
        "trainX, testX, trainy, testy = train_test_split(X, y, test_size=0.1, random_state=0)\n",
        "\n",
        "inputVariables = 5\n",
        "model = keras.models.Sequential()\n",
        "model.add(keras.layers.Dense(12, input_dim=inputVariables, kernel_initializer='normal', activation='relu'))\n",
        "model.add(keras.layers.Dense(8, activation='relu'))\n",
        "model.add(keras.layers.Dense(1, activation='linear'))\n",
        "model.summary()\n",
        "\n",
        "model.compile(loss='mse', optimizer='adam', metrics=['accuracy'])\n",
        "\n",
        "numberOfEpochs = 500\n",
        "batchSize = 256\n",
        "history = model.fit(trainX, trainy, epochs=numberOfEpochs, batch_size=batchSize, \n",
        "                    verbose=False, validation_split=0.2)"
      ],
      "execution_count": null,
      "outputs": []
    },
    {
      "cell_type": "code",
      "metadata": {
        "id": "Sj8YMpA6xQmw"
      },
      "source": [
        "testy_pred = model.predict(testX)\n",
        "myMse = mean_squared_error(testy, testy_pred)\n",
        "print(f'The mean squared error ORANGE I get with the neural network is {myMse} minutes.')\n",
        "#model.save(\"models/model_ORANGE\")"
      ],
      "execution_count": null,
      "outputs": []
    },
    {
      "cell_type": "markdown",
      "metadata": {
        "id": "JNcV30F0x0Uu"
      },
      "source": [
        "## Red model"
      ]
    },
    {
      "cell_type": "code",
      "metadata": {
        "id": "i7j1RemYx3Af"
      },
      "source": [
        "workingCopyDataset = df_red\n",
        "\n",
        "X = workingCopyDataset.loc[:,['weekday', 'timeslot', 'osp_code', 'altri', 'più_gravi']]\n",
        "y = workingCopyDataset['durata']\n",
        "\n",
        "\n",
        "trainX, testX, trainy, testy = train_test_split(X, y, test_size=0.1, random_state=0)\n",
        "\n",
        "inputVariables = 5\n",
        "model = keras.models.Sequential()\n",
        "model.add(keras.layers.Dense(12, input_dim=inputVariables, kernel_initializer='normal', activation='relu'))\n",
        "model.add(keras.layers.Dense(8, activation='relu'))\n",
        "model.add(keras.layers.Dense(1, activation='linear'))\n",
        "model.summary()\n",
        "\n",
        "model.compile(loss='mse', optimizer='adam', metrics=['accuracy'])\n",
        "\n",
        "numberOfEpochs = 500\n",
        "batchSize = 256\n",
        "history = model.fit(trainX, trainy, epochs=numberOfEpochs, batch_size=batchSize, \n",
        "                    verbose=False, validation_split=0.2)"
      ],
      "execution_count": null,
      "outputs": []
    },
    {
      "cell_type": "code",
      "metadata": {
        "id": "q50aeY98x7w4"
      },
      "source": [
        "testy_pred = model.predict(testX)\n",
        "myMse = mean_squared_error(testy, testy_pred)\n",
        "print(f'The mean squared error RED I get with the neural network is {myMse} minutes.')\n",
        "#model.save(\"models/model_RED\")"
      ],
      "execution_count": null,
      "outputs": []
    }
  ]
}